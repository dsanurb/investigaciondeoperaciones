{
  "nbformat": 4,
  "nbformat_minor": 0,
  "metadata": {
    "colab": {
      "name": "LP-Problem-Challenge",
      "provenance": [],
      "collapsed_sections": []
    },
    "kernelspec": {
      "name": "python3",
      "display_name": "Python 3"
    },
    "language_info": {
      "name": "python"
    }
  },
  "cells": [
    {
      "cell_type": "markdown",
      "source": [
        "# Ejercicio Minimización :\n",
        "Un estudiante de administración de empresas del Nowledge College necesita completar un total de 65 cursos para graduarse. El número de cursos de administración tendrá que ser mayor que o igual a 23. El número de cursos ajenos al área de administración deberá ser mayor que o igual a 20. El curso de administración promedio requiere un libro de texto que cuesta 60 dolares e implica 120 horas de estudio. Los cursos ajenos al área de administración requieren un libro de texto que cuesta 24 dolares e implican 200 horas de estudio. El estudiante dispone de un presupuesto de 3,000 dolares para libros.\n",
        "\n",
        "## Definicion del problema:\n",
        "¿Con qué combinación de cursos de administración y otros ajenos a esta área se minimizaría el número total de horas de estudio?\n",
        "\n"
      ],
      "metadata": {
        "id": "p_1fR7ictzv1"
      }
    },
    {
      "cell_type": "code",
      "source": [
        "# Creamos la tabla de problema  (opcional)\n",
        "import pandas as pd #Es una librería de Python especializada en el manejo y análisis de estructuras de datos.\n",
        "\n",
        "df = pd.DataFrame()\n",
        "# Creamos las columnas vacias\n",
        "df['Horas de estudio'] = None \n",
        "df['Costo por libro (usd)'] = None\n",
        "\n",
        "df.loc['Cursos administracion'] = ['120', '60']\n",
        "df.loc['Cursos ajenos a administraccion'] = ['200', '24']\n",
        "df.loc['Presupuesto para libros (dolares)'] = ['', '3000']\n",
        "df # Imprimimos la tabla"
      ],
      "metadata": {
        "colab": {
          "base_uri": "https://localhost:8080/",
          "height": 143
        },
        "id": "PXvpfX02aFEW",
        "outputId": "74dcc47d-dba5-498d-f8f4-5d7b2e6f58b3"
      },
      "execution_count": null,
      "outputs": [
        {
          "output_type": "execute_result",
          "data": {
            "text/plain": [
              "                                  Horas de estudio Costo por libro (usd)\n",
              "Cursos administracion                          120                    60\n",
              "Cursos ajenos a administraccion                200                    24\n",
              "Presupuesto para libros (dolares)                                   3000"
            ],
            "text/html": [
              "\n",
              "  <div id=\"df-001f5254-4f67-4fa7-aee9-6b53660462de\">\n",
              "    <div class=\"colab-df-container\">\n",
              "      <div>\n",
              "<style scoped>\n",
              "    .dataframe tbody tr th:only-of-type {\n",
              "        vertical-align: middle;\n",
              "    }\n",
              "\n",
              "    .dataframe tbody tr th {\n",
              "        vertical-align: top;\n",
              "    }\n",
              "\n",
              "    .dataframe thead th {\n",
              "        text-align: right;\n",
              "    }\n",
              "</style>\n",
              "<table border=\"1\" class=\"dataframe\">\n",
              "  <thead>\n",
              "    <tr style=\"text-align: right;\">\n",
              "      <th></th>\n",
              "      <th>Horas de estudio</th>\n",
              "      <th>Costo por libro (usd)</th>\n",
              "    </tr>\n",
              "  </thead>\n",
              "  <tbody>\n",
              "    <tr>\n",
              "      <th>Cursos administracion</th>\n",
              "      <td>120</td>\n",
              "      <td>60</td>\n",
              "    </tr>\n",
              "    <tr>\n",
              "      <th>Cursos ajenos a administraccion</th>\n",
              "      <td>200</td>\n",
              "      <td>24</td>\n",
              "    </tr>\n",
              "    <tr>\n",
              "      <th>Presupuesto para libros (dolares)</th>\n",
              "      <td></td>\n",
              "      <td>3000</td>\n",
              "    </tr>\n",
              "  </tbody>\n",
              "</table>\n",
              "</div>\n",
              "      <button class=\"colab-df-convert\" onclick=\"convertToInteractive('df-001f5254-4f67-4fa7-aee9-6b53660462de')\"\n",
              "              title=\"Convert this dataframe to an interactive table.\"\n",
              "              style=\"display:none;\">\n",
              "        \n",
              "  <svg xmlns=\"http://www.w3.org/2000/svg\" height=\"24px\"viewBox=\"0 0 24 24\"\n",
              "       width=\"24px\">\n",
              "    <path d=\"M0 0h24v24H0V0z\" fill=\"none\"/>\n",
              "    <path d=\"M18.56 5.44l.94 2.06.94-2.06 2.06-.94-2.06-.94-.94-2.06-.94 2.06-2.06.94zm-11 1L8.5 8.5l.94-2.06 2.06-.94-2.06-.94L8.5 2.5l-.94 2.06-2.06.94zm10 10l.94 2.06.94-2.06 2.06-.94-2.06-.94-.94-2.06-.94 2.06-2.06.94z\"/><path d=\"M17.41 7.96l-1.37-1.37c-.4-.4-.92-.59-1.43-.59-.52 0-1.04.2-1.43.59L10.3 9.45l-7.72 7.72c-.78.78-.78 2.05 0 2.83L4 21.41c.39.39.9.59 1.41.59.51 0 1.02-.2 1.41-.59l7.78-7.78 2.81-2.81c.8-.78.8-2.07 0-2.86zM5.41 20L4 18.59l7.72-7.72 1.47 1.35L5.41 20z\"/>\n",
              "  </svg>\n",
              "      </button>\n",
              "      \n",
              "  <style>\n",
              "    .colab-df-container {\n",
              "      display:flex;\n",
              "      flex-wrap:wrap;\n",
              "      gap: 12px;\n",
              "    }\n",
              "\n",
              "    .colab-df-convert {\n",
              "      background-color: #E8F0FE;\n",
              "      border: none;\n",
              "      border-radius: 50%;\n",
              "      cursor: pointer;\n",
              "      display: none;\n",
              "      fill: #1967D2;\n",
              "      height: 32px;\n",
              "      padding: 0 0 0 0;\n",
              "      width: 32px;\n",
              "    }\n",
              "\n",
              "    .colab-df-convert:hover {\n",
              "      background-color: #E2EBFA;\n",
              "      box-shadow: 0px 1px 2px rgba(60, 64, 67, 0.3), 0px 1px 3px 1px rgba(60, 64, 67, 0.15);\n",
              "      fill: #174EA6;\n",
              "    }\n",
              "\n",
              "    [theme=dark] .colab-df-convert {\n",
              "      background-color: #3B4455;\n",
              "      fill: #D2E3FC;\n",
              "    }\n",
              "\n",
              "    [theme=dark] .colab-df-convert:hover {\n",
              "      background-color: #434B5C;\n",
              "      box-shadow: 0px 1px 3px 1px rgba(0, 0, 0, 0.15);\n",
              "      filter: drop-shadow(0px 1px 2px rgba(0, 0, 0, 0.3));\n",
              "      fill: #FFFFFF;\n",
              "    }\n",
              "  </style>\n",
              "\n",
              "      <script>\n",
              "        const buttonEl =\n",
              "          document.querySelector('#df-001f5254-4f67-4fa7-aee9-6b53660462de button.colab-df-convert');\n",
              "        buttonEl.style.display =\n",
              "          google.colab.kernel.accessAllowed ? 'block' : 'none';\n",
              "\n",
              "        async function convertToInteractive(key) {\n",
              "          const element = document.querySelector('#df-001f5254-4f67-4fa7-aee9-6b53660462de');\n",
              "          const dataTable =\n",
              "            await google.colab.kernel.invokeFunction('convertToInteractive',\n",
              "                                                     [key], {});\n",
              "          if (!dataTable) return;\n",
              "\n",
              "          const docLinkHtml = 'Like what you see? Visit the ' +\n",
              "            '<a target=\"_blank\" href=https://colab.research.google.com/notebooks/data_table.ipynb>data table notebook</a>'\n",
              "            + ' to learn more about interactive tables.';\n",
              "          element.innerHTML = '';\n",
              "          dataTable['output_type'] = 'display_data';\n",
              "          await google.colab.output.renderOutput(dataTable, element);\n",
              "          const docLink = document.createElement('div');\n",
              "          docLink.innerHTML = docLinkHtml;\n",
              "          element.appendChild(docLink);\n",
              "        }\n",
              "      </script>\n",
              "    </div>\n",
              "  </div>\n",
              "  "
            ]
          },
          "metadata": {},
          "execution_count": 36
        }
      ]
    },
    {
      "cell_type": "code",
      "source": [
        "pip install pulp # Instalamos Pulp porque este no se encuentra instalado por defecto en colab"
      ],
      "metadata": {
        "colab": {
          "base_uri": "https://localhost:8080/"
        },
        "id": "GOGiRlTNyL9Q",
        "outputId": "f9f2fdea-c955-40fe-b0dd-1e6115ba1233"
      },
      "execution_count": null,
      "outputs": [
        {
          "output_type": "stream",
          "name": "stdout",
          "text": [
            "Looking in indexes: https://pypi.org/simple, https://us-python.pkg.dev/colab-wheels/public/simple/\n",
            "Requirement already satisfied: pulp in /usr/local/lib/python3.7/dist-packages (2.6.0)\n"
          ]
        }
      ]
    },
    {
      "cell_type": "code",
      "execution_count": null,
      "metadata": {
        "id": "3_2ahX6TFqTx"
      },
      "outputs": [],
      "source": [
        "#Librerías necesarias\n",
        "from pulp import * # Esta librería nos proporciona un lenguaje para modelar y resolver problemas de optimización utilizando programación lineal.\n",
        "import matplotlib.pyplot as plt # Matplotlib nos permita graficar\n",
        "import numpy as np # Nos permite generacion y manejos de datos rapido."
      ]
    },
    {
      "cell_type": "code",
      "source": [
        "# Creamos un  objeto del modelo\n",
        "prob = LpProblem(\"Problema_del_Estudiante\", LpMinimize)"
      ],
      "metadata": {
        "id": "mGTZuytWvkol"
      },
      "execution_count": null,
      "outputs": []
    },
    {
      "cell_type": "code",
      "source": [
        "# Definimos las variables de decision\n",
        "x1 = LpVariable(\"x1\", 0) # Cursos de Administración que cursará el estudiante\n",
        "x2 = LpVariable(\"x2\", 0) # Cursos ajenos al área de Administración que cursará el estudiante"
      ],
      "metadata": {
        "id": "_iL6abirv1Rn"
      },
      "execution_count": null,
      "outputs": []
    },
    {
      "cell_type": "markdown",
      "source": [
        "Vamos a minimizar la siguiente función objetivo:\n",
        "$Z{min} = 120x_1 + 200x_2$\n",
        "\n",
        "con las siguientes restricciones:\n",
        "$x_{1} + x_{2} \\geq 65 \\\\\n",
        "x_1 \\geq 23 \\\\\n",
        "x_2 \\geq 20 \\\\\n",
        "60x_1 + 24x_2 \\leq 3000 \\\\\n",
        "x_i \\geq 0$"
      ],
      "metadata": {
        "id": "GVH-sA-xYwje"
      }
    },
    {
      "cell_type": "code",
      "source": [
        "# Definimos la funcion objetivo\n",
        "prob += 120*x1 + 200*x2"
      ],
      "metadata": {
        "id": "4XDAOp_7wKwv"
      },
      "execution_count": null,
      "outputs": []
    },
    {
      "cell_type": "code",
      "source": [
        "# Definimos las restricciones\n",
        "prob += x1 + x2 >= 65 , \"r1\" # Cursos Necesarios para graduarse\n",
        "prob +=  x1 >= 23 , \"r2\" # Cantidad de Cursos de Administración\n",
        "prob +=  x2 >= 20 , \"r3\" # Cantidad de Cursos ajenos a Administración\n",
        "prob +=  60*x1 + 24*x2 <= 3000, \"r4\" # Presupuesto del estudiante"
      ],
      "metadata": {
        "id": "BfxamNp3weer"
      },
      "execution_count": null,
      "outputs": []
    },
    {
      "cell_type": "code",
      "source": [
        "# Resolvemos el problema de programacion lineal\n",
        "prob.solve()"
      ],
      "metadata": {
        "colab": {
          "base_uri": "https://localhost:8080/"
        },
        "id": "x4IhJZxbx84w",
        "outputId": "67667ad2-87f1-4939-f8bc-e7ff57e232ad"
      },
      "execution_count": null,
      "outputs": [
        {
          "output_type": "execute_result",
          "data": {
            "text/plain": [
              "1"
            ]
          },
          "metadata": {},
          "execution_count": 24
        }
      ]
    },
    {
      "cell_type": "code",
      "source": [
        "# Imprimimos los resultados\n",
        "print (\"Estado: \", LpStatus[prob.status])"
      ],
      "metadata": {
        "colab": {
          "base_uri": "https://localhost:8080/"
        },
        "id": "L0d1IqTxzIWR",
        "outputId": "dec90434-db5c-453c-d255-7b479d56c8a1"
      },
      "execution_count": null,
      "outputs": [
        {
          "output_type": "stream",
          "name": "stdout",
          "text": [
            "Estado:  Optimal\n"
          ]
        }
      ]
    },
    {
      "cell_type": "code",
      "source": [
        "print(\"La solución visual se encontraría en el punto:\")\n",
        "for v in prob.variables():\n",
        "  print(f\"{v.name} = {v.varValue}\")"
      ],
      "metadata": {
        "colab": {
          "base_uri": "https://localhost:8080/"
        },
        "id": "fJq7Cc5Py2cy",
        "outputId": "259f9137-d600-4c72-c7c2-1777c0e9c5ba"
      },
      "execution_count": null,
      "outputs": [
        {
          "output_type": "stream",
          "name": "stdout",
          "text": [
            "La solución visual se encontraría en el punto:\n",
            "x1 = 40.0\n",
            "x2 = 25.0\n"
          ]
        }
      ]
    },
    {
      "cell_type": "code",
      "source": [
        "print(\"El valor optimo de la funcion objetivo es = \", value(prob.objective))"
      ],
      "metadata": {
        "colab": {
          "base_uri": "https://localhost:8080/"
        },
        "id": "TCFH-UANziKr",
        "outputId": "49db9126-3bf2-4742-e5ea-42c29c3c2a91"
      },
      "execution_count": null,
      "outputs": [
        {
          "output_type": "stream",
          "name": "stdout",
          "text": [
            "El valor optimo de la funcion objetivo es =  9800.0\n"
          ]
        }
      ]
    },
    {
      "cell_type": "code",
      "source": [
        "# Resolviendo la optimizacion graficamente.\n",
        "x = np.arange(0, 160, 20) # valores del 0 al 160 con incrementos de 20\n",
        "fobjetivo = ((9800 - 120*x)/200) # 120x1 + 200x2 = 9800\n",
        "r1 = 65-x # x1 + x2 = 65\n",
        "r2 = [23 for x in x] # x1 = 23\n",
        "r3 = [20 for x in x] # x2 = 20\n",
        "r4 = ((3000 - 60*x)/24) # 60x1 + 24x2 = 3000\n",
        "\n",
        "plt.figure(figsize=(10,8))\n",
        "# Trazamos las funciones (Restricciones, F.Objetivo)\n",
        "plt.plot(x, fobjetivo,'--', label = '120x1 + 200x2 = 9800')\n",
        "plt.plot(x, r1, label = '$x1 + x2 \\geq 65$')\n",
        "plt.plot(r2, x, label = '$x1 \\geq 23$')\n",
        "plt.plot(x, r3, label= '$x2 \\geq 20$')\n",
        "plt.plot(x, r4, label = '$60x1 + 24x2 \\leq 3000$')\n",
        "plt.plot(40, 25, 'b*', markersize=15) # Punto optimo\n",
        "\n",
        "# Región factible\n",
        "x = [ 23, 23, 40] # Definimos los vertices de la region\n",
        "y = [ 42, 135/2, 25]\n",
        "\n",
        "plt.fill(x, y, alpha=0.15,hatch='\\\\\\\\', color='b') # Pintamos la region factible\n",
        "\n",
        "plt.text(24, 45, 'Region \\n Factible', size = '11')\n",
        "plt.annotate('Solucion \\n Optima\\n(40, 25)', xy = (40, 25))\n",
        "\n",
        "plt.xlabel(\"x_1\")\n",
        "plt.ylabel(\"x_2\")\n",
        "plt.axis([0, 75, 0, 140])\n",
        "plt.grid(True)\n",
        "plt.title('Optimizacion lineal')\n",
        "plt.legend()\n",
        "plt.show()"
      ],
      "metadata": {
        "id": "MHDkmDCqziSQ",
        "colab": {
          "base_uri": "https://localhost:8080/",
          "height": 514
        },
        "outputId": "88dd04be-acf8-4f16-eda8-343e0822395c"
      },
      "execution_count": null,
      "outputs": [
        {
          "output_type": "display_data",
          "data": {
            "text/plain": [
              "<Figure size 720x576 with 1 Axes>"
            ],
            "image/png": "[encoded data removed]"
          },
          "metadata": {
            "needs_background": "light"
          }
        }
      ]
    },
    {
      "cell_type": "markdown",
      "source": [
        "# Interpretacion de los resultados\n",
        "Con los valores obtenidos de X = 40, Y = 25, se minimizará las horas de estudio, teniendo como resultado 9800 horas."
      ],
      "metadata": {
        "id": "lxZuN51A728v"
      }
    }
  ]
}